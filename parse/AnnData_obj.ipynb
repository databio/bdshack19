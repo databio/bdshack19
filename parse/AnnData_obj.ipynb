{
 "cells": [
  {
   "cell_type": "code",
   "execution_count": null,
   "metadata": {},
   "outputs": [],
   "source": [
    "\n",
    "import os\n",
    "import pandas as pd\n",
    "import scanpy.api as sc\n",
    "import numpy as np\n",
    "\n",
    "import scipy\n",
    "import scipy.io\n"
   ]
  },
  {
   "cell_type": "code",
   "execution_count": 5,
   "metadata": {},
   "outputs": [
    {
     "name": "stderr",
     "output_type": "stream",
     "text": [
      "/Users/maureencarey/.virtualenvs/cobrapy/lib/python3.6/site-packages/IPython/core/interactiveshell.py:2728: DtypeWarning: Columns (2) have mixed types. Specify dtype option on import or set low_memory=False.\n",
      "  interactivity=interactivity, compiler=compiler, result=result)\n"
     ]
    }
   ],
   "source": [
    "os.chdir(\"/Users/maureencarey/local_documents/work/hackathon/GSE117089_RAW\")\n",
    "\n",
    "RNA_cell = pd.read_csv(\"GSM3271040_RNA_sciCAR_A549_cell.txt\", sep = ',')\n",
    "RNA_gene = pd.read_csv(\"GSM3271040_RNA_sciCAR_A549_gene.txt\", sep = ',')\n",
    "ATAC_cell = pd.read_csv(\"GSM3271041_ATAC_sciCAR_A549_cell.txt\", sep = ',')\n",
    "ATAC_peak = pd.read_csv(\"GSM3271041_ATAC_sciCAR_A549_peak.txt\", sep = ',')\n",
    "\n",
    "ATAC = scipy.io.mmread(\"GSM3271041_ATAC_sciCAR_A549_peak_count.txt\")\n",
    "RNA = scipy.io.mmread(\"GSM3271040_RNA_sciCAR_A549_gene_count.txt\")\n"
   ]
  },
  {
   "cell_type": "code",
   "execution_count": 7,
   "metadata": {},
   "outputs": [
    {
     "name": "stderr",
     "output_type": "stream",
     "text": [
      "AnnData expects string indices for some functionality, but your first two indices are: RangeIndex(start=0, stop=2, step=1). \n",
      "AnnData expects string indices for some functionality, but your first two indices are: RangeIndex(start=0, stop=2, step=1). \n",
      "AnnData expects string indices for some functionality, but your first two indices are: RangeIndex(start=0, stop=2, step=1). \n",
      "AnnData expects string indices for some functionality, but your first two indices are: RangeIndex(start=0, stop=2, step=1). \n"
     ]
    }
   ],
   "source": [
    "# each row corresponds to gene id (df_gene_RNA)\n",
    "# each column corresponds to each cell (df_cell_RNA)\n",
    "adata_ATAC = sc.AnnData(ATAC.toarray())\n",
    "adata_RNA = sc.AnnData(RNA.toarray())\n",
    "\n",
    "adata_ATAC.obs = ATAC_peak\n",
    "adata_RNA.obs = RNA_gene\n",
    "adata_ATAC.var = ATAC_cell\n",
    "adata_RNA.var = RNA_cell"
   ]
  },
  {
   "cell_type": "code",
   "execution_count": 33,
   "metadata": {},
   "outputs": [
    {
     "data": {
      "text/plain": [
       "AnnData object with n_obs × n_vars = 113153 × 6093 \n",
       "    obs: 'gene_id', 'gene_type', 'gene_short_name'\n",
       "    var: 'sample', 'cell_name', 'experiment', 'treatment_time'"
      ]
     },
     "execution_count": 33,
     "metadata": {},
     "output_type": "execute_result"
    }
   ],
   "source": [
    "adata_RNA"
   ]
  }
 ],
 "metadata": {
  "kernelspec": {
   "display_name": "Python 3",
   "language": "python",
   "name": "python3"
  },
  "language_info": {
   "codemirror_mode": {
    "name": "ipython",
    "version": 3
   },
   "file_extension": ".py",
   "mimetype": "text/x-python",
   "name": "python",
   "nbconvert_exporter": "python",
   "pygments_lexer": "ipython3",
   "version": "3.6.4"
  }
 },
 "nbformat": 4,
 "nbformat_minor": 2
}
