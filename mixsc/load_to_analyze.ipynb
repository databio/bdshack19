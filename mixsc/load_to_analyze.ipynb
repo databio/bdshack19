{
 "cells": [
  {
   "cell_type": "code",
   "execution_count": 1,
   "metadata": {},
   "outputs": [],
   "source": [
    "import os\n",
    "import pandas as pd\n",
    "import scipy\n",
    "import scanpy as sc\n",
    "from multimeasure import MultiAnnData"
   ]
  },
  {
   "cell_type": "markdown",
   "metadata": {},
   "source": [
    "**Option 1** Read the data from .txt files (Remember to change files path according to your set-up)"
   ]
  },
  {
   "cell_type": "code",
   "execution_count": 2,
   "metadata": {},
   "outputs": [
    {
     "name": "stderr",
     "output_type": "stream",
     "text": [
      "AnnData expects string indices for some functionality, but your first two indices are: RangeIndex(start=0, stop=2, step=1). \n",
      "AnnData expects string indices for some functionality, but your first two indices are: RangeIndex(start=0, stop=2, step=1). \n"
     ]
    },
    {
     "name": "stdout",
     "output_type": "stream",
     "text": [
      "Modality RNA added.\n"
     ]
    },
    {
     "data": {
      "text/plain": [
       "{'RNA': AnnData object with n_obs × n_vars = 6093 × 113153 \n",
       "     obs: 'sample', 'cell_name', 'experiment', 'treatment_time'\n",
       "     var: 'gene_id', 'gene_type', 'gene_short_name'}"
      ]
     },
     "execution_count": 2,
     "metadata": {},
     "output_type": "execute_result"
    }
   ],
   "source": [
    "file_dir = \"/project/shefflab/bdshack19/sciCAR/rawdata/GSE117089_RAW\"\n",
    "\n",
    "RNA_matrix = os.path.join(file_dir, \"GSM3271040_RNA_sciCAR_A549_gene_count.txt.gz\")\n",
    "RNA_cell = os.path.join(file_dir, \"GSM3271040_RNA_sciCAR_A549_cell.txt.gz\") #obs\n",
    "RNA_gene = os.path.join(file_dir, \"GSM3271040_RNA_sciCAR_A549_gene.txt.gz\") #var\n",
    "\n",
    "ATAC_matrix = os.path.join(file_dir, \"GSM3271041_ATAC_sciCAR_A549_peak_count.txt.gz\")\n",
    "ATAC_cell = os.path.join(file_dir, \"GSM3271041_ATAC_sciCAR_A549_cell.txt.gz\") #obs\n",
    "ATAC_peak = os.path.join(file_dir, \"GSM3271041_ATAC_sciCAR_A549_peak.txt.gz\") #var\n",
    "\n",
    "m = MultiAnnData()\n",
    "m.add_modality(\"RNA\", RNA_matrix, file_obs=RNA_cell, file_var=RNA_gene,\n",
    "               obs_index = 'sample', var_index = 'gene_id', transpose_x=True)\n",
    "m.measures"
   ]
  },
  {
   "cell_type": "code",
   "execution_count": 3,
   "metadata": {},
   "outputs": [
    {
     "name": "stderr",
     "output_type": "stream",
     "text": [
      "/home/glm5uh/.conda/envs/bdshack2019/lib/python3.7/site-packages/IPython/core/interactiveshell.py:3214: DtypeWarning: Columns (2) have mixed types. Specify dtype option on import or set low_memory=False.\n",
      "  if (yield from self.run_code(code, result)):\n",
      "AnnData expects string indices for some functionality, but your first two indices are: RangeIndex(start=0, stop=2, step=1). \n",
      "AnnData expects string indices for some functionality, but your first two indices are: RangeIndex(start=0, stop=2, step=1). \n"
     ]
    },
    {
     "name": "stdout",
     "output_type": "stream",
     "text": [
      "Modality ATAC added.\n"
     ]
    },
    {
     "data": {
      "text/plain": [
       "{'RNA': AnnData object with n_obs × n_vars = 6093 × 113153 \n",
       "     obs: 'sample', 'cell_name', 'experiment', 'treatment_time'\n",
       "     var: 'gene_id', 'gene_type', 'gene_short_name',\n",
       " 'ATAC': AnnData object with n_obs × n_vars = 6085 × 189603 \n",
       "     obs: 'sample', 'source', 'group', 'experiment'\n",
       "     var: 'id', 'peak', 'chr', 'start', 'end'}"
      ]
     },
     "execution_count": 3,
     "metadata": {},
     "output_type": "execute_result"
    }
   ],
   "source": [
    "m.add_modality(\"ATAC\", ATAC_matrix, file_obs=ATAC_cell, file_var=ATAC_peak, transpose_x=True)\n",
    "m.measures"
   ]
  },
  {
   "cell_type": "code",
   "execution_count": 4,
   "metadata": {},
   "outputs": [],
   "source": [
    "#if you need just AnnData try extracting it like this:\n",
    "rna = m.measures[\"RNA\"]\n",
    "atac = m.measures[\"ATAC\"]"
   ]
  },
  {
   "cell_type": "markdown",
   "metadata": {},
   "source": [
    "**Option 2** If you want to read data from .h5ad files # much quicker! :)"
   ]
  },
  {
   "cell_type": "code",
   "execution_count": null,
   "metadata": {},
   "outputs": [],
   "source": [
    "file_dir = \"../..\"\n",
    "\n",
    "RNA_obj = os.path.join(file_dir, \"sciCAR_mouse_rna_scanpy.h5ad\")\n",
    "ATAC_obj = os.path.join(file_dir, \"sciCAR_mouse_atac_scanpy.h5ad\")\n",
    "\n",
    "import scanpy as sc\n",
    "\n",
    "rna = sc.read(RNA_obj) \n",
    "atac = sc.read(ATAC_obj)\n",
    "# both of those are AnnData objects you can work on"
   ]
  },
  {
   "cell_type": "code",
   "execution_count": null,
   "metadata": {},
   "outputs": [],
   "source": [
    "# to create MultiAnnData object run\n",
    "m = MultiAnnData([rna, atac],[\"RNA\", \"ATAC\"])\n",
    "m.measures"
   ]
  },
  {
   "cell_type": "code",
   "execution_count": 8,
   "metadata": {},
   "outputs": [
    {
     "data": {
      "image/png": "[encoded data removed]",
      "text/plain": [
       "<Figure size 360x396 with 1 Axes>"
      ]
     },
     "metadata": {
      "needs_background": "light"
     },
     "output_type": "display_data"
    }
   ],
   "source": [
    "# Check to make sure scanpy plotting works on the AnnData object\n",
    "sc.pl.highest_expr_genes(rna, n_top=20)"
   ]
  },
  {
   "cell_type": "code",
   "execution_count": 9,
   "metadata": {},
   "outputs": [
    {
     "data": {
      "text/plain": [
       "AnnData object with n_obs × n_vars = 4177 × 113153 \n",
       "    obs: 'sample', 'cell_name', 'experiment', 'treatment_time', 'n_genes'\n",
       "    var: 'gene_id', 'gene_type', 'gene_short_name'"
      ]
     },
     "execution_count": 9,
     "metadata": {},
     "output_type": "execute_result"
    }
   ],
   "source": [
    "# Check to make sure filtering works on the AnnData object\n",
    "sc.pp.filter_cells(rna, min_genes=1000)\n",
    "rna"
   ]
  }
 ],
 "metadata": {
  "kernelspec": {
   "display_name": "Python (bdshack2019)",
   "language": "python",
   "name": "bdshack2019"
  },
  "language_info": {
   "codemirror_mode": {
    "name": "ipython",
    "version": 3
   },
   "file_extension": ".py",
   "mimetype": "text/x-python",
   "name": "python",
   "nbconvert_exporter": "python",
   "pygments_lexer": "ipython3",
   "version": "3.7.3"
  }
 },
 "nbformat": 4,
 "nbformat_minor": 2
}
