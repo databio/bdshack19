{
 "cells": [
  {
   "cell_type": "code",
   "execution_count": 2,
   "metadata": {},
   "outputs": [],
   "source": [
    "import os\n",
    "import pandas as pd\n",
    "import scipy\n",
    "from multimeasure import MultiAnnData"
   ]
  },
  {
   "cell_type": "markdown",
   "metadata": {},
   "source": [
    "**Option 1** Read the data from .txt files (Remember to change files path according to your set-up)"
   ]
  },
  {
   "cell_type": "code",
   "execution_count": 11,
   "metadata": {},
   "outputs": [
    {
     "data": {
      "text/plain": [
       "{'RNA': AnnData object with n_obs × n_vars = 6093 × 113153 \n",
       "     obs: 'sample', 'cell_name', 'experiment', 'treatment_time'\n",
       "     var: 'gene_id', 'gene_type', 'gene_short_name'}"
      ]
     },
     "execution_count": 11,
     "metadata": {},
     "output_type": "execute_result"
    }
   ],
   "source": [
    "file_dir = \"../../files\"\n",
    "\n",
    "RNA_matrix = os.path.join(file_dir, \"GSM3271040_RNA_sciCAR_A549_gene_count.txt.gz\")\n",
    "RNA_cell = os.path.join(file_dir, \"GSM3271040_RNA_sciCAR_A549_cell.txt.gz\") #obs\n",
    "RNA_gene = os.path.join(file_dir, \"GSM3271040_RNA_sciCAR_A549_gene.txt.gz\") #var\n",
    "\n",
    "ATAC_matrix = os.path.join(file_dir, \"GSM3271041_ATAC_sciCAR_A549_peak_count.txt.gz\")\n",
    "ATAC_cell = os.path.join(file_dir, \"GSM3271041_ATAC_sciCAR_A549_cell.txt.gz\") #obs\n",
    "ATAC_peak = os.path.join(file_dir, \"GSM3271041_ATAC_sciCAR_A549_peak.txt.gz\") #var\n",
    "\n",
    "m = MultiAnnData()\n",
    "m.add_modality(\"RNA\", RNA_matrix, file_obs=RNA_cell, file_var=RNA_gene, transpose_x=True)\n",
    "m.measures"
   ]
  },
  {
   "cell_type": "code",
   "execution_count": 12,
   "metadata": {},
   "outputs": [
    {
     "name": "stderr",
     "output_type": "stream",
     "text": [
      "/usr/lib/python3/dist-packages/IPython/core/interactiveshell.py:2822: DtypeWarning: Columns (2) have mixed types. Specify dtype option on import or set low_memory=False.\n",
      "  if self.run_code(code, result):\n"
     ]
    },
    {
     "data": {
      "text/plain": [
       "{'ATAC': AnnData object with n_obs × n_vars = 6085 × 189603 \n",
       "     obs: 'sample', 'source', 'group', 'experiment'\n",
       "     var: 'id', 'peak', 'chr', 'start', 'end',\n",
       " 'RNA': AnnData object with n_obs × n_vars = 6093 × 113153 \n",
       "     obs: 'sample', 'cell_name', 'experiment', 'treatment_time'\n",
       "     var: 'gene_id', 'gene_type', 'gene_short_name'}"
      ]
     },
     "execution_count": 12,
     "metadata": {},
     "output_type": "execute_result"
    }
   ],
   "source": [
    "m.add_modality(\"ATAC\", ATAC_matrix, file_obs=ATAC_cell, file_var=ATAC_peak, transpose_x=True)\n",
    "m.measures"
   ]
  },
  {
   "cell_type": "code",
   "execution_count": null,
   "metadata": {},
   "outputs": [],
   "source": [
    "#if you need just AnnData try extracting it like this:\n",
    "rna = m.measures[\"RNA\"]\n",
    "atac = m.measures[\"ATAC\"]"
   ]
  },
  {
   "cell_type": "markdown",
   "metadata": {},
   "source": [
    "**Option 2** If you want to read data from .h5ad files # much quicker! :)"
   ]
  },
  {
   "cell_type": "code",
   "execution_count": 13,
   "metadata": {},
   "outputs": [],
   "source": [
    "file_dir = \"../..\"\n",
    "\n",
    "RNA_obj = os.path.join(file_dir, \"sciCAR_mouse_rna_scanpy.h5ad\")\n",
    "ATAC_obj = os.path.join(file_dir, \"sciCAR_mouse_atac_scanpy.h5ad\")\n",
    "\n",
    "import scanpy as sc\n",
    "\n",
    "rna = sc.read(RNA_obj) \n",
    "atac = sc.read(ATAC_obj)\n",
    "# both of those are AnnData objects you can work on"
   ]
  },
  {
   "cell_type": "code",
   "execution_count": 15,
   "metadata": {},
   "outputs": [
    {
     "data": {
      "text/plain": [
       "{'ATAC': AnnData object with n_obs × n_vars = 13395 × 252741 \n",
       "     obs: 'replicate', 'louvain'\n",
       "     var: 'peak', 'chr', 'start', 'end'\n",
       "     uns: 'louvain', 'neighbors'\n",
       "     obsm: 'X_pca', 'X_umap',\n",
       " 'RNA': AnnData object with n_obs × n_vars = 13893 × 12 \n",
       "     obs: 'source', 'replicate', 'experiment', 'tsne_1', 'tsne_2', 'cell_name', 'louvain'\n",
       "     var: 'gene_type', 'gene_short_name', 'means', 'dispersions', 'dispersions_norm'\n",
       "     uns: 'cell_name_colors', 'louvain', 'louvain_sizes', 'neighbors', 'paga'\n",
       "     obsm: 'X_umap'}"
      ]
     },
     "execution_count": 15,
     "metadata": {},
     "output_type": "execute_result"
    }
   ],
   "source": [
    "# to create MultiAnnData object run\n",
    "m = MultiAnnData([rna, atac],[\"RNA\", \"ATAC\"])\n",
    "m.measures"
   ]
  }
 ],
 "metadata": {
  "kernelspec": {
   "display_name": "Python 3",
   "language": "python",
   "name": "python3"
  },
  "language_info": {
   "codemirror_mode": {
    "name": "ipython",
    "version": 3
   },
   "file_extension": ".py",
   "mimetype": "text/x-python",
   "name": "python",
   "nbconvert_exporter": "python",
   "pygments_lexer": "ipython3",
   "version": "3.6.7"
  }
 },
 "nbformat": 4,
 "nbformat_minor": 2
}
