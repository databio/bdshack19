{
 "cells": [
  {
   "cell_type": "code",
   "execution_count": 1,
   "metadata": {},
   "outputs": [
    {
     "name": "stderr",
     "output_type": "stream",
     "text": [
      "/apps/software/standard/core/anaconda/5.2.0-py3.6/lib/python3.6/site-packages/h5py/__init__.py:36: FutureWarning: Conversion of the second argument of issubdtype from `float` to `np.floating` is deprecated. In future, it will be treated as `np.float64 == np.dtype(float).type`.\n",
      "  from ._conv import register_converters as _register_converters\n"
     ]
    }
   ],
   "source": [
    "import pandas as pd\n",
    "import sys\n",
    "import os\n",
    "import scanpy as sc\n",
    "import scipy.io"
   ]
  },
  {
   "cell_type": "code",
   "execution_count": 2,
   "metadata": {},
   "outputs": [],
   "source": [
    "sys.path.append(os.path.abspath(\"../mixsc\"))\n",
    "from multimeasure import MultiAnnData\n",
    "from multimeasure import load_AnnData"
   ]
  },
  {
   "cell_type": "code",
   "execution_count": 3,
   "metadata": {},
   "outputs": [
    {
     "data": {
      "text/plain": [
       "'/project/shefflab/bdshack19/sciCAR/rawdata/GSE117089_RAW/'"
      ]
     },
     "execution_count": 3,
     "metadata": {},
     "output_type": "execute_result"
    }
   ],
   "source": [
    "parent_folder = \"/project/shefflab/bdshack19/sciCAR/rawdata/GSE117089_RAW/\""
   ]
  },
  {
   "cell_type": "markdown",
   "metadata": {},
   "source": [
    "# Loading AnnData objects separately\n",
    "\n",
    "You can create a MultiAnnData objects by provided already loaded AnnData objects. Let's load an AnnData object and then use that to construct a MultiAnnData object."
   ]
  },
  {
   "cell_type": "code",
   "execution_count": 4,
   "metadata": {},
   "outputs": [
    {
     "name": "stderr",
     "output_type": "stream",
     "text": [
      "AnnData expects string indices for some functionality, but your first two indices are: RangeIndex(start=0, stop=2, step=1). \n",
      "AnnData expects string indices for some functionality, but your first two indices are: RangeIndex(start=0, stop=2, step=1). \n"
     ]
    }
   ],
   "source": [
    "ad_rna = load_AnnData(\n",
    "\t\"GSM3271044_RNA_mouse_kidney_gene_count.txt.gz\", \n",
    "\t\"GSM3271044_RNA_mouse_kidney_cell.txt.gz\",\n",
    "\t\"GSM3271044_RNA_mouse_kidney_gene.txt.gz\",\n",
    "\tparent_folder=parent_folder, transpose_x=True)\n"
   ]
  },
  {
   "cell_type": "code",
   "execution_count": 7,
   "metadata": {},
   "outputs": [
    {
     "data": {
      "text/plain": [
       "AnnData object with n_obs × n_vars = 13893 × 49584 \n",
       "    obs: 'sample', 'source', 'replicate', 'experiment', 'tsne_1', 'tsne_2', 'cell_name'\n",
       "    var: 'gene_id', 'gene_type', 'gene_short_name'"
      ]
     },
     "execution_count": 7,
     "metadata": {},
     "output_type": "execute_result"
    }
   ],
   "source": [
    "ad_rna"
   ]
  },
  {
   "cell_type": "code",
   "execution_count": 34,
   "metadata": {
    "scrolled": false
   },
   "outputs": [
    {
     "name": "stdout",
     "output_type": "stream",
     "text": [
      "Modality RNA added.\n",
      "MultiAnnData object with 1 modalities\n",
      "RNA: AnnData object with n_obs × n_vars = 13893 × 49584 \n",
      "    obs: 'sample', 'source', 'replicate', 'experiment', 'tsne_1', 'tsne_2', 'cell_name'\n",
      "    var: 'gene_id', 'gene_type', 'gene_short_name'\n",
      "\n"
     ]
    }
   ],
   "source": [
    "mad = MultiAnnData([\"RNA\"], [ad_rna])\n",
    "print(mad)"
   ]
  },
  {
   "cell_type": "markdown",
   "metadata": {},
   "source": [
    "A MultiAnnData object really is effective when it contains more than one AnnData object. Let's do that now:"
   ]
  },
  {
   "cell_type": "code",
   "execution_count": 14,
   "metadata": {
    "scrolled": false
   },
   "outputs": [
    {
     "name": "stderr",
     "output_type": "stream",
     "text": [
      "AnnData expects string indices for some functionality, but your first two indices are: RangeIndex(start=0, stop=2, step=1). \n",
      "AnnData expects string indices for some functionality, but your first two indices are: RangeIndex(start=0, stop=2, step=1). \n"
     ]
    }
   ],
   "source": [
    "ad_atac = load_AnnData(\n",
    "\t\"GSM3271045_ATAC_mouse_kidney_peak_count.txt.gz\", \n",
    "\t\"GSM3271045_ATAC_mouse_kidney_cell.txt.gz\",\n",
    "    \"GSM3271045_ATAC_mouse_kidney_peak.txt.gz\",\n",
    "\tparent_folder=parent_folder, transpose_x=True)"
   ]
  },
  {
   "cell_type": "code",
   "execution_count": 15,
   "metadata": {},
   "outputs": [
    {
     "name": "stdout",
     "output_type": "stream",
     "text": [
      "Modality ATAC added.\n",
      "Modality RNA added.\n"
     ]
    }
   ],
   "source": [
    "mad = MultiAnnData([\"ATAC\", \"RNA\"], [ad_atac, ad_rna])"
   ]
  },
  {
   "cell_type": "markdown",
   "metadata": {},
   "source": [
    "# Loading upon creation\n",
    "\n",
    "Another way you can do it is by using the `load_modality` function. This will load your data in directly."
   ]
  },
  {
   "cell_type": "code",
   "execution_count": 16,
   "metadata": {},
   "outputs": [
    {
     "name": "stderr",
     "output_type": "stream",
     "text": [
      "AnnData expects string indices for some functionality, but your first two indices are: RangeIndex(start=0, stop=2, step=1). \n",
      "AnnData expects string indices for some functionality, but your first two indices are: RangeIndex(start=0, stop=2, step=1). \n"
     ]
    },
    {
     "name": "stdout",
     "output_type": "stream",
     "text": [
      "Modality RNA added.\n"
     ]
    }
   ],
   "source": [
    "mad = MultiAnnData()\n",
    "mad.load_modality(\"RNA\",\t\"GSM3271044_RNA_mouse_kidney_gene_count.txt.gz\", \n",
    "\t\"GSM3271044_RNA_mouse_kidney_cell.txt.gz\",\n",
    "\t\"GSM3271044_RNA_mouse_kidney_gene.txt.gz\", parent_folder=parent_folder, transpose_x=True)"
   ]
  },
  {
   "cell_type": "code",
   "execution_count": 30,
   "metadata": {},
   "outputs": [
    {
     "name": "stdout",
     "output_type": "stream",
     "text": [
      "MultiAnnData object with 1 modalities\n",
      "RNA: AnnData object with n_obs × n_vars = 13893 × 49584 \n",
      "    obs: 'sample', 'source', 'replicate', 'experiment', 'tsne_1', 'tsne_2', 'cell_name'\n",
      "    var: 'gene_id', 'gene_type', 'gene_short_name'\n",
      "\n"
     ]
    }
   ],
   "source": [
    "print(mad)"
   ]
  },
  {
   "cell_type": "markdown",
   "metadata": {},
   "source": [
    "Once an MultiAnnData object is created, you can also add existing AnnData objects with `add_modality`:"
   ]
  },
  {
   "cell_type": "code",
   "execution_count": 35,
   "metadata": {},
   "outputs": [
    {
     "name": "stdout",
     "output_type": "stream",
     "text": [
      "Modality ATAC added.\n"
     ]
    }
   ],
   "source": [
    "mad.add_modality(\"ATAC\", ad_atac)"
   ]
  },
  {
   "cell_type": "code",
   "execution_count": 36,
   "metadata": {},
   "outputs": [
    {
     "name": "stdout",
     "output_type": "stream",
     "text": [
      "MultiAnnData object with 2 modalities\n",
      "RNA: AnnData object with n_obs × n_vars = 13893 × 49584 \n",
      "    obs: 'sample', 'source', 'replicate', 'experiment', 'tsne_1', 'tsne_2', 'cell_name'\n",
      "    var: 'gene_id', 'gene_type', 'gene_short_name'\n",
      "ATAC: AnnData object with n_obs × n_vars = 13395 × 252741 \n",
      "    obs: 'sample', 'replicate'\n",
      "    var: 'id', 'peak', 'chr', 'start', 'end'\n",
      "\n"
     ]
    }
   ],
   "source": [
    "print(mad)"
   ]
  },
  {
   "cell_type": "markdown",
   "metadata": {},
   "source": [
    "# Referring to the AnnData objects\n",
    "Either by dot accession or item accession:"
   ]
  },
  {
   "cell_type": "code",
   "execution_count": 26,
   "metadata": {},
   "outputs": [
    {
     "data": {
      "text/plain": [
       "AnnData object with n_obs × n_vars = 13893 × 49584 \n",
       "    obs: 'sample', 'source', 'replicate', 'experiment', 'tsne_1', 'tsne_2', 'cell_name'\n",
       "    var: 'gene_id', 'gene_type', 'gene_short_name'"
      ]
     },
     "execution_count": 26,
     "metadata": {},
     "output_type": "execute_result"
    }
   ],
   "source": [
    "mad.RNA"
   ]
  },
  {
   "cell_type": "code",
   "execution_count": 27,
   "metadata": {},
   "outputs": [
    {
     "data": {
      "text/plain": [
       "AnnData object with n_obs × n_vars = 13893 × 49584 \n",
       "    obs: 'sample', 'source', 'replicate', 'experiment', 'tsne_1', 'tsne_2', 'cell_name'\n",
       "    var: 'gene_id', 'gene_type', 'gene_short_name'"
      ]
     },
     "execution_count": 27,
     "metadata": {},
     "output_type": "execute_result"
    }
   ],
   "source": [
    "mad[\"RNA\"]"
   ]
  }
 ],
 "metadata": {
  "kernelspec": {
   "display_name": "Python 3",
   "language": "python",
   "name": "python3"
  },
  "language_info": {
   "codemirror_mode": {
    "name": "ipython",
    "version": 3
   },
   "file_extension": ".py",
   "mimetype": "text/x-python",
   "name": "python",
   "nbconvert_exporter": "python",
   "pygments_lexer": "ipython3",
   "version": "3.6.6"
  }
 },
 "nbformat": 4,
 "nbformat_minor": 2
}
